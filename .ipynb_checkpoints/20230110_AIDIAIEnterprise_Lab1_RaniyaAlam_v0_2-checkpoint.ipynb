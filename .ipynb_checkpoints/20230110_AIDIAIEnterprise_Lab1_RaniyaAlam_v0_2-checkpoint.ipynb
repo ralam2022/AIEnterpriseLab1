{
 "cells": [
  {
   "cell_type": "code",
   "execution_count": 2,
   "id": "e4bdb63e",
   "metadata": {},
   "outputs": [
    {
     "name": "stdout",
     "output_type": "stream",
     "text": [
      "Adding 10 and 15 gives us 25\n"
     ]
    }
   ],
   "source": [
    "# Basic Python program to add 2 numbers \n",
    " \n",
    "num1 = 10\n",
    "num2 = 15\n",
    " \n",
    "# Adding two nos\n",
    "sum = num1 + num2\n",
    " \n",
    "# printing values\n",
    "print(\"Adding {0} and {1} gives us {2}\" .format(num1, num2, sum))"
   ]
  },
  {
   "cell_type": "code",
   "execution_count": null,
   "id": "b0b3dc9a",
   "metadata": {},
   "outputs": [],
   "source": [
    "## additional lines added to show changes for the quiz "
   ]
  }
 ],
 "metadata": {
  "kernelspec": {
   "display_name": "Python 3 (ipykernel)",
   "language": "python",
   "name": "python3"
  },
  "language_info": {
   "codemirror_mode": {
    "name": "ipython",
    "version": 3
   },
   "file_extension": ".py",
   "mimetype": "text/x-python",
   "name": "python",
   "nbconvert_exporter": "python",
   "pygments_lexer": "ipython3",
   "version": "3.9.12"
  }
 },
 "nbformat": 4,
 "nbformat_minor": 5
}

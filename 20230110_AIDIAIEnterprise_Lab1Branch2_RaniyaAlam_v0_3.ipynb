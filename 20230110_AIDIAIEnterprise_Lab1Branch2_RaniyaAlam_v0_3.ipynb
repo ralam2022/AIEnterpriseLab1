{
 "cells": [
  {
   "cell_type": "code",
   "execution_count": 2,
   "id": "e4bdb63e",
   "metadata": {},
   "outputs": [
    {
     "name": "stdout",
     "output_type": "stream",
     "text": [
      "Adding 10 and 15 gives us 25\n"
     ]
    }
   ],
   "source": [
    "# Basic Python program to add 2 numbers \n",
    " \n",
    "num1 = 10\n",
    "num2 = 15\n",
    " \n",
    "# Adding two nos\n",
    "sum = num1 + num2\n",
    " \n",
    "# printing values\n",
    "print(\"Adding {0} and {1} gives us {2}\" .format(num1, num2, sum))"
   ]
  },
  {
   "cell_type": "code",
   "execution_count": 3,
   "id": "b0b3dc9a",
   "metadata": {},
   "outputs": [
    {
     "name": "stdout",
     "output_type": "stream",
     "text": [
      "Subtracting 10 and 15 gives us 5\n"
     ]
    }
   ],
   "source": [
    "# Basic subtraction for 2 numbers\n",
    "\n",
    "num1 = 10\n",
    "num2 = 15\n",
    "\n",
    "\n",
    "minus = num2 - num1\n",
    "\n",
    "# printing values\n",
    "\n",
    "print(\"Subtracting {0} and {1} gives us {2}\" .format(num1, num2, minus))\n"
   ]
  },
  {
   "cell_type": "code",
   "execution_count": null,
   "id": "8010d57d",
   "metadata": {},
   "outputs": [],
   "source": []
  }
 ],
 "metadata": {
  "kernelspec": {
   "display_name": "Python 3 (ipykernel)",
   "language": "python",
   "name": "python3"
  },
  "language_info": {
   "codemirror_mode": {
    "name": "ipython",
    "version": 3
   },
   "file_extension": ".py",
   "mimetype": "text/x-python",
   "name": "python",
   "nbconvert_exporter": "python",
   "pygments_lexer": "ipython3",
   "version": "3.9.12"
  }
 },
 "nbformat": 4,
 "nbformat_minor": 5
}
